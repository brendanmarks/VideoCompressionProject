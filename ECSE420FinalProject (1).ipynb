{
  "nbformat": 4,
  "nbformat_minor": 0,
  "metadata": {
    "colab": {
      "name": "ECSE420FinalProject.ipynb",
      "provenance": [],
      "collapsed_sections": []
    },
    "kernelspec": {
      "name": "python3",
      "display_name": "Python 3"
    },
    "language_info": {
      "name": "python"
    },
    "accelerator": "GPU"
  },
  "cells": [
    {
      "cell_type": "code",
      "metadata": {
        "colab": {
          "base_uri": "https://localhost:8080/"
        },
        "id": "H1LqotmxRq-m",
        "outputId": "f0f58741-6ae7-46e8-bb69-7ee44a3774d6"
      },
      "source": [
        "!pip install bitstring\n",
        "import cv2\n",
        "import numpy as np\n",
        "from bitstring import BitArray\n",
        "import multiprocessing"
      ],
      "execution_count": null,
      "outputs": [
        {
          "output_type": "stream",
          "name": "stdout",
          "text": [
            "Collecting bitstring\n",
            "  Downloading bitstring-3.1.9-py3-none-any.whl (38 kB)\n",
            "Installing collected packages: bitstring\n",
            "Successfully installed bitstring-3.1.9\n"
          ]
        }
      ]
    },
    {
      "cell_type": "code",
      "metadata": {
        "colab": {
          "base_uri": "https://localhost:8080/"
        },
        "id": "2c5Vpb2F7jqJ",
        "outputId": "34e8278e-ecf1-45ab-ada2-d81d30398d2c"
      },
      "source": [
        "!pip install ray\n",
        "# from ray.util.multiprocessing import Pool\n",
        "import ray\n",
        "# !pip install dask\n",
        "# !pip install 'fsspec>=0.3.3'\n",
        "# import pandas as pd\n",
        "# import dask.dataframe as dd\n",
        "# from dask.multiprocessing import get"
      ],
      "execution_count": null,
      "outputs": [
        {
          "output_type": "stream",
          "name": "stdout",
          "text": [
            "Collecting ray\n",
            "  Downloading ray-1.8.0-cp37-cp37m-manylinux2014_x86_64.whl (54.7 MB)\n",
            "\u001b[K     |████████████████████████████████| 54.7 MB 139 kB/s \n",
            "\u001b[?25hRequirement already satisfied: numpy>=1.16 in /usr/local/lib/python3.7/dist-packages (from ray) (1.19.5)\n",
            "Requirement already satisfied: click>=7.0 in /usr/local/lib/python3.7/dist-packages (from ray) (7.1.2)\n",
            "Requirement already satisfied: protobuf>=3.15.3 in /usr/local/lib/python3.7/dist-packages (from ray) (3.17.3)\n",
            "Requirement already satisfied: jsonschema in /usr/local/lib/python3.7/dist-packages (from ray) (2.6.0)\n",
            "Requirement already satisfied: grpcio>=1.28.1 in /usr/local/lib/python3.7/dist-packages (from ray) (1.42.0)\n",
            "Requirement already satisfied: pyyaml in /usr/local/lib/python3.7/dist-packages (from ray) (3.13)\n",
            "Requirement already satisfied: filelock in /usr/local/lib/python3.7/dist-packages (from ray) (3.4.0)\n",
            "Requirement already satisfied: msgpack<2.0.0,>=1.0.0 in /usr/local/lib/python3.7/dist-packages (from ray) (1.0.2)\n",
            "Collecting redis>=3.5.0\n",
            "  Downloading redis-4.0.2-py3-none-any.whl (119 kB)\n",
            "\u001b[K     |████████████████████████████████| 119 kB 74.0 MB/s \n",
            "\u001b[?25hRequirement already satisfied: attrs in /usr/local/lib/python3.7/dist-packages (from ray) (21.2.0)\n",
            "Requirement already satisfied: six>=1.5.2 in /usr/local/lib/python3.7/dist-packages (from grpcio>=1.28.1->ray) (1.15.0)\n",
            "Collecting deprecated\n",
            "  Downloading Deprecated-1.2.13-py2.py3-none-any.whl (9.6 kB)\n",
            "Requirement already satisfied: wrapt<2,>=1.10 in /usr/local/lib/python3.7/dist-packages (from deprecated->redis>=3.5.0->ray) (1.13.3)\n",
            "Installing collected packages: deprecated, redis, ray\n",
            "Successfully installed deprecated-1.2.13 ray-1.8.0 redis-4.0.2\n"
          ]
        }
      ]
    },
    {
      "cell_type": "code",
      "metadata": {
        "id": "8yFbTy-FLaoK"
      },
      "source": [
        "import psutil"
      ],
      "execution_count": null,
      "outputs": []
    },
    {
      "cell_type": "code",
      "metadata": {
        "id": "GETYjsoxoolu"
      },
      "source": [
        "def compress(uncompressed):\n",
        " \n",
        "    # Build the dictionary.\n",
        "    dict_size = 256\n",
        "    dictionary = {chr(i): i for i in range(dict_size)}\n",
        " \n",
        "    w = \"\"\n",
        "    result = []\n",
        "    for c in uncompressed:\n",
        "        wc = w + c\n",
        "        if wc in dictionary:\n",
        "            w = wc\n",
        "        else:\n",
        "            result.append(dictionary[w])\n",
        "            dictionary[wc] = dict_size\n",
        "            dict_size += 1\n",
        "            w = c\n",
        " \n",
        "    if w:\n",
        "        result.append(dictionary[w])\n",
        "    return result\n",
        "\n",
        "def decompress(compressed):\n",
        "    from io import StringIO\n",
        " \n",
        "    dict_size = 256\n",
        "    dictionary = {i: chr(i) for i in range(dict_size)}\n",
        "\n",
        "    result = StringIO()\n",
        "    w = chr(compressed.pop(0))\n",
        "    result.write(w)\n",
        "    for k in compressed:\n",
        "        if k in dictionary:\n",
        "            entry = dictionary[k]\n",
        "        elif k == dict_size:\n",
        "            entry = w + w[0]\n",
        "        else:\n",
        "            raise ValueError('error')\n",
        "        result.write(entry)\n",
        " \n",
        "        \n",
        "        dictionary[dict_size] = w + entry[0]\n",
        "        dict_size += 1\n",
        " \n",
        "        w = entry\n",
        "    return result.getvalue()\n",
        " \n",
        " "
      ],
      "execution_count": null,
      "outputs": []
    },
    {
      "cell_type": "code",
      "metadata": {
        "id": "RbvYri2cthwk"
      },
      "source": [
        "\n",
        "@ray.remote\n",
        "def compress_frame(a):\n",
        "  uncompressed = \"\".join([chr(item) for item in a])\n",
        "  compressed = compress(uncompressed)\n",
        "\n",
        "  return BitArray().join(BitArray(uint=x, length=16) for x in compressed)"
      ],
      "execution_count": null,
      "outputs": []
    },
    {
      "cell_type": "code",
      "metadata": {
        "id": "Zor0NvH4SRP_"
      },
      "source": [
        "\n",
        "@ray.remote\n",
        "def decompress_frame(a):\n",
        "  compressed = []\n",
        "  \n",
        "  for i in range(0,len(a),16):\n",
        "    compressed.append(a[i:i+16].uint)\n",
        "  decompressed = decompress(compressed)\n",
        "  return decompressed"
      ],
      "execution_count": null,
      "outputs": []
    },
    {
      "cell_type": "code",
      "metadata": {
        "colab": {
          "base_uri": "https://localhost:8080/"
        },
        "id": "i0q4q0b6sBbA",
        "outputId": "cf6b0858-8573-49a6-e982-d9d6804e1674"
      },
      "source": [
        "# Opens the Video file\n",
        "cap= cv2.VideoCapture(\"./video.mp4\")\n",
        "\n",
        "images = []\n",
        "height = 0\n",
        "width = 0\n",
        "first = True\n",
        "while(cap.isOpened()):\n",
        "    ret, frame = cap.read()\n",
        "    if first:\n",
        "      print (frame.shape)\n",
        "      height = len(frame)\n",
        "      width = len(frame[0])\n",
        "      first = False\n",
        "  \n",
        "    if ret == False:\n",
        "        break\n",
        "    usable = frame.flatten()\n",
        "    a = usable.astype(np.uint8)\n",
        "    images.append(a)\n",
        "\n",
        "res = []\n",
        "\n",
        "num_cpus = psutil.cpu_count()\n",
        "\n",
        "print (num_cpus)\n",
        "\n",
        "ray.shutdown()\n",
        "ray.init(num_cpus=2, num_gpus=1)\n",
        "compressed = ray.get([compress_frame.remote(i) for i in images[:5]])\n",
        "\n",
        "import pickle\n",
        "\n",
        "with open('todo.pickle', 'wb') as f:\n",
        "  pickle.dump(compressed, f)\n",
        "\n",
        "# for i in images[:100]:\n",
        "#   res.append(compress_frame(i))\n",
        "\n",
        "# print (res)\n",
        "# pool = Pool()\n",
        "# results = pool.map(compress_frame, images[0:100])\n",
        "# ddata = dd.from_pandas(df, npartitions=2*multiprocessing.cpu_count())\n",
        "# print (ddata)\n",
        "# res = ddata.map_partitions(lambda df: df.apply((lambda row: compress_frame(*row)), axis=1)).compute(scheduler='threads')  \n",
        "# print (res)"
      ],
      "execution_count": null,
      "outputs": [
        {
          "output_type": "stream",
          "name": "stdout",
          "text": [
            "(270, 480, 3)\n",
            "2\n"
          ]
        }
      ]
    },
    {
      "cell_type": "code",
      "metadata": {
        "colab": {
          "base_uri": "https://localhost:8080/"
        },
        "id": "mUd2rZdB2Eep",
        "outputId": "15a5f87d-ef74-4f65-c307-af65d017453e"
      },
      "source": [
        "with open('todo.pickle', 'rb') as ff:\n",
        "  compressed = pickle.load(ff)\n",
        "compressed"
      ],
      "execution_count": null,
      "outputs": [
        {
          "output_type": "execute_result",
          "data": {
            "text/plain": [
              "[BitArray('0x00000100010101020103010401050106010701080109010a010b010c010d010e010f0110011101120113011401150116011701180119011a011b011c011d011e011f0120012101220123012401250126012701280129012a012b012c012d012e012f0130013101320133013401350136013701380139013a013b013c01...') # length=679264,\n",
              " BitArray('0x00000100010101020103010401050106010701080109010a010b010c010d010e010f0110011101120113011401150116011701180119011a011b011c011d011e011f0120012101220123012401250126012701280129012a012b012c012d012e012f0130013101320133013401350136013701380139013a013b013c01...') # length=681760,\n",
              " BitArray('0x00000100010101020103010401050106010701080109010a010b010c010d010e010f0110011101120113011401150116011701180119011a011b011c011d011e011f0120012101220123012401250126012701280129012a012b012c012d012e012f0130013101320133013401350136013701380139013a013b013c01...') # length=681888,\n",
              " BitArray('0x00000100010101020103010401050106010701080109010a010b010c010d010e010f0110011101120113011401150116011701180119011a011b011c011d011e011f0120012101220123012401250126012701280129012a012b012c012d012e012f0130013101320133013401350136013701380139013a013b013c01...') # length=684000,\n",
              " BitArray('0x00000100010101020103010401050106010701080109010a010b010c010d010e010f0110011101120113011401150116011701180119011a011b011c011d011e011f0120012101220123012401250126012701280129012a012b012c012d012e012f0130013101320133013401350136013701380139013a013b013c01...') # length=683168]"
            ]
          },
          "metadata": {},
          "execution_count": 254
        }
      ]
    },
    {
      "cell_type": "code",
      "metadata": {
        "id": "dpdtHxdq5C4_"
      },
      "source": [
        "NotebookApp.iopub_data_rate_limit = 1000000"
      ],
      "execution_count": null,
      "outputs": []
    },
    {
      "cell_type": "code",
      "metadata": {
        "id": "MCH6XHYvs3zy"
      },
      "source": [
        "decompressed = ray.get([decompress_frame.remote(i) for i in compressed])\n",
        "# decompressed = decompress_frame(compressed)\n",
        "\n",
        "video_name = 'video.avi'\n",
        "\n",
        "video = cv2.VideoWriter(video_name, 0, 1, (width,height))\n",
        "\n",
        "frames = []\n",
        "for i in enumerate(decompressed):\n",
        "  a = []\n",
        "  for el in i[1]:\n",
        "    a.append(ord(el))\n",
        "\n",
        "  a = np.array(a).astype(np.uint8)\n",
        "  reshaped = np.reshape(a, (height, width,3))\n",
        "\n",
        "  cv2.imwrite(\"your_file\"+ str(i[0]) +\".jpg\", reshaped)\n",
        "  video.write(cv2.imread(\"your_file\"+ str(i[0]) +\".jpg\"))\n",
        "\n",
        "cv2.destroyAllWindows()\n",
        "video.release()"
      ],
      "execution_count": null,
      "outputs": []
    }
  ]
}